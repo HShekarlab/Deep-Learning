{
  "nbformat": 4,
  "nbformat_minor": 0,
  "metadata": {
    "colab": {
      "name": "Recognize Persian handwritten numbers using CNN 2.ipynb",
      "provenance": [],
      "collapsed_sections": []
    },
    "kernelspec": {
      "name": "python3",
      "display_name": "Python 3"
    }
  },
  "cells": [
    {
      "cell_type": "code",
      "metadata": {
        "id": "jjMQfnW1kzOM"
      },
      "source": [
        "import matplotlib.pyplot as plt\n",
        "from hoda_dataset_helper import read_hoda\n",
        "import numpy as np\n",
        "import os\n",
        "import sys\n",
        "import tarfile\n",
        "import random\n",
        "from keras.utils import np_utils\n",
        "from PIL import Image\n",
        "from IPython.display import display\n",
        "from keras.layers import Dense\n",
        "from keras.layers import Conv2D\n",
        "from keras.layers import MaxPooling2D\n",
        "from keras.layers import AveragePooling2D\n",
        "from keras.layers import Flatten\n",
        "from keras.models import Sequential\n",
        "from keras.models import load_model\n",
        "from keras.optimizers import Adam\n",
        "from scipy import ndimage\n",
        "from __future__ import print_function\n",
        "from sklearn.linear_model import LogisticRegression\n",
        "from sklearn.model_selection import train_test_split\n",
        "from six.moves.urllib.request import urlretrieve\n",
        "from six.moves import cPickle as pickle\n",
        "%matplotlib inline"
      ],
      "execution_count": null,
      "outputs": []
    },
    {
      "cell_type": "code",
      "metadata": {
        "id": "UD-2O9sxlRDt",
        "colab": {
          "base_uri": "https://localhost:8080/",
          "height": 102
        },
        "outputId": "7b257d2f-d63f-4bed-beb9-c4e6bd2dec63"
      },
      "source": [
        "X_train, Y_train, X_test, Y_test, X_remaining, Y_remaining = read_hoda()\n",
        "print (X_train.shape)\n",
        "print (X_train.astype)\n",
        "#num_list = X_train.tolist()\n",
        "\n",
        "X_train = X_train.astype('float32')\n",
        "X_test = X_test.astype('float32')\n",
        "#print (num_list)\n",
        "X_train /= 255.0\n",
        "X_test /= 255.0"
      ],
      "execution_count": null,
      "outputs": [
        {
          "output_type": "stream",
          "text": [
            "Reading hoda/data/Train 60000.cdb\n",
            "Reading hoda/data/Test 20000.cdb\n",
            "Reading hoda/data/RemainingSamples.cdb\n",
            "(60000, 32, 32, 1)\n",
            "<built-in method astype of numpy.ndarray object at 0x7f3c713218f0>\n"
          ],
          "name": "stdout"
        }
      ]
    },
    {
      "cell_type": "code",
      "metadata": {
        "id": "6mtNa6VDtB8S"
      },
      "source": [
        "def train_valid_spliter(X_train,Y_train) :\n",
        "    X_train, X_val, Y_train, Y_val = train_test_split(X_train, Y_train, test_size=0.2, random_state=1)\n",
        "    return X_train,Y_train,X_val,Y_val"
      ],
      "execution_count": null,
      "outputs": []
    },
    {
      "cell_type": "code",
      "metadata": {
        "id": "FaLVS_-LtWeo"
      },
      "source": [
        "X_train,Y_train,X_val,Y_val = train_valid_spliter(X_train,Y_train)\n"
      ],
      "execution_count": null,
      "outputs": []
    },
    {
      "cell_type": "code",
      "metadata": {
        "id": "NIp47YJztkTj",
        "colab": {
          "base_uri": "https://localhost:8080/",
          "height": 85
        },
        "outputId": "b2bfdea6-a82d-4c83-a0fd-be2d4f4f11ce"
      },
      "source": [
        "print('train data shape: {}'.format(X_train.shape))\n",
        "print('train labels shape: {}'.format(Y_train.shape))\n",
        "print('valid data shape : {}'.format(X_val.shape))\n",
        "print('valid labels shape: {}'.format(Y_val.shape))\n"
      ],
      "execution_count": null,
      "outputs": [
        {
          "output_type": "stream",
          "text": [
            "train data shape: (48000, 32, 32, 1)\n",
            "train labels shape: (48000, 10)\n",
            "valid data shape : (12000, 32, 32, 1)\n",
            "valid labels shape: (12000, 10)\n"
          ],
          "name": "stdout"
        }
      ]
    },
    {
      "cell_type": "code",
      "metadata": {
        "id": "ejENuIndrob-",
        "colab": {
          "base_uri": "https://localhost:8080/",
          "height": 34
        },
        "outputId": "b4979dc6-c181-42af-96d9-1c19612ffae5"
      },
      "source": [
        "input_shape = X_train[0].shape\n",
        "print(input_shape)\n",
        "def conv_model(input_shape) :\n",
        "    \n",
        "    model = Sequential()\n",
        "    model.add(Conv2D(16, 5, padding='same', activation='relu', input_shape=input_shape))\n",
        "    model.add(Conv2D(16, 5, padding='same', activation='relu'))\n",
        "    model.add(Conv2D(16, 5, padding='same', activation='relu'))\n",
        "    model.add(Conv2D(16, 5, padding='same', activation='relu'))\n",
        "    model.add(Conv2D(16, 5, padding='same', activation='relu'))\n",
        "    model.add(Conv2D(16, 5, padding='same', activation='relu'))\n",
        "    model.add(Conv2D(16, 5, padding='same', activation='relu'))\n",
        "    model.add(Conv2D(16, 5, padding='same', activation='relu'))\n",
        "    model.add(MaxPooling2D())\n",
        "\n",
        "    model.add(Conv2D(32, 3, padding='same', activation='relu'))\n",
        "    model.add(Conv2D(32, 3, padding='same', activation='relu'))\n",
        "    model.add(Conv2D(32, 3, padding='same', activation='relu'))\n",
        "    model.add(Conv2D(32, 3, padding='same', activation='relu'))\n",
        "    model.add(Conv2D(32, 3, padding='same', activation='relu'))\n",
        "    model.add(Conv2D(32, 3, padding='same', activation='relu'))\n",
        "    model.add(Conv2D(32, 3, padding='same', activation='relu'))\n",
        "    model.add(Conv2D(32, 3, padding='same', activation='relu'))\n",
        "    model.add(MaxPooling2D())\n",
        "    model.add(Conv2D(64, 3, padding='same', activation='relu'))\n",
        "    model.add(Conv2D(64, 3, padding='same', activation='relu'))\n",
        "    model.add(Conv2D(64, 3, padding='same', activation='relu'))\n",
        "    model.add(Conv2D(64, 3, padding='same', activation='relu'))\n",
        "    model.add(Conv2D(64, 3, padding='same', activation='relu'))\n",
        "    model.add(Conv2D(64, 3, padding='same', activation='relu'))\n",
        "    model.add(Conv2D(64, 3, padding='same', activation='relu'))\n",
        "    model.add(Conv2D(64, 3, padding='same', activation='relu'))\n",
        "    model.add(AveragePooling2D())\n",
        "\n",
        "    model.add(Flatten())\n",
        "\n",
        "    model.add(Dense(1024, activation='relu'))\n",
        "    model.add(Dense(1024, activation='relu'))\n",
        "    model.add(Dense(10, activation='softmax'))\n",
        "\n",
        "    model.compile(optimizer=Adam(lr=1e-4), loss='categorical_crossentropy', metrics=['accuracy'])\n",
        "    \n",
        "    return model"
      ],
      "execution_count": null,
      "outputs": [
        {
          "output_type": "stream",
          "text": [
            "(32, 32, 1)\n"
          ],
          "name": "stdout"
        }
      ]
    },
    {
      "cell_type": "code",
      "metadata": {
        "id": "kLZUowDgsJeF"
      },
      "source": [
        "def train_model(input_shape,X_train,Y_train,X_val,Y_val,batch_size=64,epochs=100) :\n",
        "        model = conv_model(input_shape)\n",
        "        model.fit(X_train,Y_train,batch_size=batch_size,epochs=epochs,validation_data=(X_val,Y_val))\n",
        "        return model"
      ],
      "execution_count": null,
      "outputs": []
    },
    {
      "cell_type": "code",
      "metadata": {
        "id": "Wzu731MisbjM",
        "colab": {
          "base_uri": "https://localhost:8080/",
          "height": 224
        },
        "outputId": "44bd9d47-c108-4e75-9b6f-2fad5f5a434e"
      },
      "source": [
        "model = train_model((32,32,1),X_train,Y_train,\n",
        "                    X_val,Y_val,64,5)"
      ],
      "execution_count": null,
      "outputs": [
        {
          "output_type": "stream",
          "text": [
            "Train on 48000 samples, validate on 12000 samples\n",
            "Epoch 1/5\n",
            "48000/48000 [==============================] - 1353s 28ms/step - loss: 0.1355 - accuracy: 0.9582 - val_loss: 0.0595 - val_accuracy: 0.9813\n",
            "Epoch 2/5\n",
            "48000/48000 [==============================] - 1331s 28ms/step - loss: 0.0511 - accuracy: 0.9843 - val_loss: 0.0395 - val_accuracy: 0.9887\n",
            "Epoch 3/5\n",
            "48000/48000 [==============================] - 1357s 28ms/step - loss: 0.0414 - accuracy: 0.9877 - val_loss: 0.0408 - val_accuracy: 0.9892\n",
            "Epoch 4/5\n",
            "48000/48000 [==============================] - 1338s 28ms/step - loss: 0.0330 - accuracy: 0.9905 - val_loss: 0.0421 - val_accuracy: 0.9898\n",
            "Epoch 5/5\n",
            "48000/48000 [==============================] - 1330s 28ms/step - loss: 0.0327 - accuracy: 0.9911 - val_loss: 0.0645 - val_accuracy: 0.9831\n"
          ],
          "name": "stdout"
        }
      ]
    },
    {
      "cell_type": "code",
      "metadata": {
        "id": "-GkqXY3CA7nF",
        "colab": {
          "base_uri": "https://localhost:8080/",
          "height": 68
        },
        "outputId": "38b24a85-18f1-4469-9e2f-bff394872ca3"
      },
      "source": [
        "scores = model.evaluate(X_test,Y_test)\n",
        "print('Accuracy : %{}'.format(scores[1]*100))\n",
        "print(\"Error : %{}\".format(100 - scores[1]*100))\n"
      ],
      "execution_count": null,
      "outputs": [
        {
          "output_type": "stream",
          "text": [
            "20000/20000 [==============================] - 141s 7ms/step\n",
            "Accuracy : %97.10999727249146\n",
            "Error : %2.890002727508545\n"
          ],
          "name": "stdout"
        }
      ]
    }
  ]
}